{
  "cells": [
    {
      "cell_type": "markdown",
      "metadata": {
        "id": "view-in-github",
        "colab_type": "text"
      },
      "source": [
        "<a href=\"https://colab.research.google.com/github/EthanBrewerCity/NLP_CW_210008199/blob/main/NLP_CW_210008199.ipynb\" target=\"_parent\"><img src=\"https://colab.research.google.com/assets/colab-badge.svg\" alt=\"Open In Colab\"/></a>"
      ]
    },
    {
      "cell_type": "markdown",
      "metadata": {
        "id": "yNdRINmxEGkF"
      },
      "source": [
        "##NLP Project: Ethan Brewer <br>\n",
        "Dataset: Dair-ai/emotion <br>\n",
        "Project Type: Sentiment Analysis <br>\n"
      ]
    },
    {
      "cell_type": "markdown",
      "metadata": {
        "id": "jQ6371T-FbkX"
      },
      "source": [
        "# NLP Models: DistilBERT and Naive Bayes\n",
        "Add Setup Features for Project <br>\n",
        "This Includes device setup, installs, imports and loading the original dataset"
      ]
    },
    {
      "cell_type": "code",
      "execution_count": 58,
      "metadata": {
        "colab": {
          "base_uri": "https://localhost:8080/"
        },
        "id": "teulrl8ZDwbw",
        "outputId": "e5927b11-8b5d-4b8f-eacb-cf90864f59c0"
      },
      "outputs": [
        {
          "output_type": "stream",
          "name": "stdout",
          "text": [
            "Requirement already satisfied: transformers in /usr/local/lib/python3.10/dist-packages (4.40.1)\n",
            "Requirement already satisfied: filelock in /usr/local/lib/python3.10/dist-packages (from transformers) (3.14.0)\n",
            "Requirement already satisfied: huggingface-hub<1.0,>=0.19.3 in /usr/local/lib/python3.10/dist-packages (from transformers) (0.23.0)\n",
            "Requirement already satisfied: numpy>=1.17 in /usr/local/lib/python3.10/dist-packages (from transformers) (1.25.2)\n",
            "Requirement already satisfied: packaging>=20.0 in /usr/local/lib/python3.10/dist-packages (from transformers) (24.0)\n",
            "Requirement already satisfied: pyyaml>=5.1 in /usr/local/lib/python3.10/dist-packages (from transformers) (6.0.1)\n",
            "Requirement already satisfied: regex!=2019.12.17 in /usr/local/lib/python3.10/dist-packages (from transformers) (2023.12.25)\n",
            "Requirement already satisfied: requests in /usr/local/lib/python3.10/dist-packages (from transformers) (2.31.0)\n",
            "Requirement already satisfied: tokenizers<0.20,>=0.19 in /usr/local/lib/python3.10/dist-packages (from transformers) (0.19.1)\n",
            "Requirement already satisfied: safetensors>=0.4.1 in /usr/local/lib/python3.10/dist-packages (from transformers) (0.4.3)\n",
            "Requirement already satisfied: tqdm>=4.27 in /usr/local/lib/python3.10/dist-packages (from transformers) (4.66.2)\n",
            "Requirement already satisfied: fsspec>=2023.5.0 in /usr/local/lib/python3.10/dist-packages (from huggingface-hub<1.0,>=0.19.3->transformers) (2023.6.0)\n",
            "Requirement already satisfied: typing-extensions>=3.7.4.3 in /usr/local/lib/python3.10/dist-packages (from huggingface-hub<1.0,>=0.19.3->transformers) (4.11.0)\n",
            "Requirement already satisfied: charset-normalizer<4,>=2 in /usr/local/lib/python3.10/dist-packages (from requests->transformers) (3.3.2)\n",
            "Requirement already satisfied: idna<4,>=2.5 in /usr/local/lib/python3.10/dist-packages (from requests->transformers) (3.7)\n",
            "Requirement already satisfied: urllib3<3,>=1.21.1 in /usr/local/lib/python3.10/dist-packages (from requests->transformers) (2.0.7)\n",
            "Requirement already satisfied: certifi>=2017.4.17 in /usr/local/lib/python3.10/dist-packages (from requests->transformers) (2024.2.2)\n",
            "Requirement already satisfied: datasets in /usr/local/lib/python3.10/dist-packages (2.19.1)\n",
            "Requirement already satisfied: filelock in /usr/local/lib/python3.10/dist-packages (from datasets) (3.14.0)\n",
            "Requirement already satisfied: numpy>=1.17 in /usr/local/lib/python3.10/dist-packages (from datasets) (1.25.2)\n",
            "Requirement already satisfied: pyarrow>=12.0.0 in /usr/local/lib/python3.10/dist-packages (from datasets) (14.0.2)\n",
            "Requirement already satisfied: pyarrow-hotfix in /usr/local/lib/python3.10/dist-packages (from datasets) (0.6)\n",
            "Requirement already satisfied: dill<0.3.9,>=0.3.0 in /usr/local/lib/python3.10/dist-packages (from datasets) (0.3.8)\n",
            "Requirement already satisfied: pandas in /usr/local/lib/python3.10/dist-packages (from datasets) (2.0.3)\n",
            "Requirement already satisfied: requests>=2.19.0 in /usr/local/lib/python3.10/dist-packages (from datasets) (2.31.0)\n",
            "Requirement already satisfied: tqdm>=4.62.1 in /usr/local/lib/python3.10/dist-packages (from datasets) (4.66.2)\n",
            "Requirement already satisfied: xxhash in /usr/local/lib/python3.10/dist-packages (from datasets) (3.4.1)\n",
            "Requirement already satisfied: multiprocess in /usr/local/lib/python3.10/dist-packages (from datasets) (0.70.16)\n",
            "Requirement already satisfied: fsspec[http]<=2024.3.1,>=2023.1.0 in /usr/local/lib/python3.10/dist-packages (from datasets) (2023.6.0)\n",
            "Requirement already satisfied: aiohttp in /usr/local/lib/python3.10/dist-packages (from datasets) (3.9.5)\n",
            "Requirement already satisfied: huggingface-hub>=0.21.2 in /usr/local/lib/python3.10/dist-packages (from datasets) (0.23.0)\n",
            "Requirement already satisfied: packaging in /usr/local/lib/python3.10/dist-packages (from datasets) (24.0)\n",
            "Requirement already satisfied: pyyaml>=5.1 in /usr/local/lib/python3.10/dist-packages (from datasets) (6.0.1)\n",
            "Requirement already satisfied: aiosignal>=1.1.2 in /usr/local/lib/python3.10/dist-packages (from aiohttp->datasets) (1.3.1)\n",
            "Requirement already satisfied: attrs>=17.3.0 in /usr/local/lib/python3.10/dist-packages (from aiohttp->datasets) (23.2.0)\n",
            "Requirement already satisfied: frozenlist>=1.1.1 in /usr/local/lib/python3.10/dist-packages (from aiohttp->datasets) (1.4.1)\n",
            "Requirement already satisfied: multidict<7.0,>=4.5 in /usr/local/lib/python3.10/dist-packages (from aiohttp->datasets) (6.0.5)\n",
            "Requirement already satisfied: yarl<2.0,>=1.0 in /usr/local/lib/python3.10/dist-packages (from aiohttp->datasets) (1.9.4)\n",
            "Requirement already satisfied: async-timeout<5.0,>=4.0 in /usr/local/lib/python3.10/dist-packages (from aiohttp->datasets) (4.0.3)\n",
            "Requirement already satisfied: typing-extensions>=3.7.4.3 in /usr/local/lib/python3.10/dist-packages (from huggingface-hub>=0.21.2->datasets) (4.11.0)\n",
            "Requirement already satisfied: charset-normalizer<4,>=2 in /usr/local/lib/python3.10/dist-packages (from requests>=2.19.0->datasets) (3.3.2)\n",
            "Requirement already satisfied: idna<4,>=2.5 in /usr/local/lib/python3.10/dist-packages (from requests>=2.19.0->datasets) (3.7)\n",
            "Requirement already satisfied: urllib3<3,>=1.21.1 in /usr/local/lib/python3.10/dist-packages (from requests>=2.19.0->datasets) (2.0.7)\n",
            "Requirement already satisfied: certifi>=2017.4.17 in /usr/local/lib/python3.10/dist-packages (from requests>=2.19.0->datasets) (2024.2.2)\n",
            "Requirement already satisfied: python-dateutil>=2.8.2 in /usr/local/lib/python3.10/dist-packages (from pandas->datasets) (2.8.2)\n",
            "Requirement already satisfied: pytz>=2020.1 in /usr/local/lib/python3.10/dist-packages (from pandas->datasets) (2023.4)\n",
            "Requirement already satisfied: tzdata>=2022.1 in /usr/local/lib/python3.10/dist-packages (from pandas->datasets) (2024.1)\n",
            "Requirement already satisfied: six>=1.5 in /usr/local/lib/python3.10/dist-packages (from python-dateutil>=2.8.2->pandas->datasets) (1.16.0)\n"
          ]
        }
      ],
      "source": [
        "# Installs necessary\n",
        "!pip install transformers\n",
        "!pip install datasets"
      ]
    },
    {
      "cell_type": "code",
      "execution_count": 59,
      "metadata": {
        "id": "ptKvmPTMFiaV"
      },
      "outputs": [],
      "source": [
        "# Add imports\n",
        "import torch\n",
        "import torch.nn as nn\n",
        "import numpy as np\n",
        "import matplotlib.pyplot as plt\n",
        "import seaborn as sns\n",
        "\n",
        "# Further imports via pytorch\n",
        "from torch.utils.data import DataLoader, Dataset\n",
        "from torch.nn.utils.rnn import pad_sequence\n",
        "from torch.optim import AdamW as Adam # Import AdamW optimiser as previous instance was \"deprecated\"\n",
        "\n",
        "# Imports from prior pip installs\n",
        "from datasets import load_dataset\n",
        "from transformers import DistilBertModel, DistilBertTokenizer, AdamW # AdamW on this version is stated as \"Deprecated\" so other version from torch.optim is used\n",
        "\n",
        "# Sklearn imports\n",
        "from sklearn.model_selection import learning_curve\n",
        "from sklearn.feature_extraction.text import CountVectorizer\n",
        "from sklearn.linear_model import LogisticRegression\n",
        "from sklearn.model_selection import train_test_split\n",
        "from sklearn.neural_network import MLPClassifier\n",
        "from sklearn.metrics import accuracy_score, confusion_matrix, classification_report\n",
        "\n",
        "# Load Dataset: dair-ai/emotion from Huggingface\n",
        "dataset = load_dataset('emotion', trust_remote_code=True)\n",
        "\n",
        "# Ensure the device being used is either the cuda or cpu (if cuda isn't available)\n",
        "device = torch.device('cuda' if torch.cuda.is_available() else 'cpu')"
      ]
    },
    {
      "cell_type": "markdown",
      "source": [
        "# CODE FOR BERT BEGINS BELOW"
      ],
      "metadata": {
        "id": "euLuabme00Jq"
      }
    },
    {
      "cell_type": "markdown",
      "metadata": {
        "id": "_HcvSYDYG4mc"
      },
      "source": [
        "## Preprocessing the Data\n",
        "The Tokeniser and Model are taken and the data is preprocessed via BERT (Currently Distilled)"
      ]
    },
    {
      "cell_type": "code",
      "execution_count": 60,
      "metadata": {
        "id": "8MJzpgRILr_J",
        "colab": {
          "base_uri": "https://localhost:8080/"
        },
        "outputId": "4c9f4312-0f4a-445b-ff5a-8cea03a00d02"
      },
      "outputs": [
        {
          "output_type": "stream",
          "name": "stderr",
          "text": [
            "/usr/local/lib/python3.10/dist-packages/huggingface_hub/file_download.py:1132: FutureWarning: `resume_download` is deprecated and will be removed in version 1.0.0. Downloads always resume when possible. If you want to force a new download, use `force_download=True`.\n",
            "  warnings.warn(\n"
          ]
        }
      ],
      "source": [
        "# Load Tokeniser and Model for dataset, In this case, BERT (Distilled vers. may change later)\n",
        "tokenizer = DistilBertTokenizer.from_pretrained('distilbert-base-uncased')\n",
        "model = DistilBertModel.from_pretrained('distilbert-base-uncased')"
      ]
    },
    {
      "cell_type": "markdown",
      "metadata": {
        "id": "NKtHT7BKHZ-t"
      },
      "source": [
        "## Create the Neural Network and Define the Model Architecture"
      ]
    },
    {
      "cell_type": "code",
      "execution_count": 61,
      "metadata": {
        "id": "Dl0Tjx2XHZNO"
      },
      "outputs": [],
      "source": [
        "# Defining Model Architecture\n",
        "class SentiClass(nn.Module):\n",
        "  def __init__(self,model):\n",
        "    super(SentiClass, self).__init__()\n",
        "    self.model = model\n",
        "    self.linear = nn.Linear(768,6)\n",
        "  def forward(self,input_ids, attention_mask):\n",
        "    outputs = self.model(input_ids = input_ids, attention_mask = attention_mask)\n",
        "    last_hidden_state = outputs[0]\n",
        "    logits = self.linear(last_hidden_state[:,0,:])\n",
        "    return logits\n",
        "\n",
        "# Creating intstance of the model\n",
        "model = SentiClass(model)"
      ]
    },
    {
      "cell_type": "markdown",
      "metadata": {
        "id": "gyXi0I70JNoA"
      },
      "source": [
        "## Define the Train, Eval and Eval for confusion matrix"
      ]
    },
    {
      "cell_type": "code",
      "execution_count": 62,
      "metadata": {
        "id": "s8WlOWmOJMcL",
        "colab": {
          "base_uri": "https://localhost:8080/",
          "height": 223,
          "referenced_widgets": [
            "c5228b49e30349dc829bcc0927889c09",
            "3abe2044b77c4d3ca381e75715954892",
            "e3e7bedd307249f881164d191f875502",
            "cc63473f00374952ba15a5f0d8a5d60e",
            "4d39f3a9a06145a4ab53705334174cdb",
            "76ae0f5e74824964ba674c421eafb816",
            "6d183bd6ccf245f0a9403cb44bbf1648",
            "67311fb26cd74ec79ee3a7424e27a40e",
            "2839cd520a1744b496e0b3f292ca4398",
            "eafe55a7060646219338496f685cd10b",
            "431fdace1460485c9b13eaee5f59105e"
          ]
        },
        "outputId": "1b18ba45-9303-4b11-c69f-d6c72129af7d"
      },
      "outputs": [
        {
          "output_type": "display_data",
          "data": {
            "text/plain": [
              "Map:   0%|          | 0/2000 [00:00<?, ? examples/s]"
            ],
            "application/vnd.jupyter.widget-view+json": {
              "version_major": 2,
              "version_minor": 0,
              "model_id": "c5228b49e30349dc829bcc0927889c09"
            }
          },
          "metadata": {}
        },
        {
          "output_type": "stream",
          "name": "stderr",
          "text": [
            "Asking to truncate to max_length but no maximum length is provided and the model has no predefined maximum length. Default to no truncation.\n"
          ]
        },
        {
          "output_type": "stream",
          "name": "stdout",
          "text": [
            "{'text': 'i didnt feel humiliated', 'label': tensor(0), 'input_ids': tensor([  101,  1045,  2134,  2102,  2514, 26608,   102,     0,     0,     0,\n",
            "            0,     0,     0,     0,     0,     0,     0,     0,     0,     0,\n",
            "            0,     0,     0,     0,     0,     0,     0,     0,     0,     0,\n",
            "            0,     0,     0,     0,     0,     0,     0,     0,     0,     0,\n",
            "            0,     0,     0,     0,     0,     0,     0,     0,     0,     0,\n",
            "            0,     0,     0,     0,     0,     0,     0,     0,     0,     0,\n",
            "            0,     0,     0,     0,     0,     0,     0,     0,     0,     0]), 'attention_mask': tensor([1, 1, 1, 1, 1, 1, 1, 0, 0, 0, 0, 0, 0, 0, 0, 0, 0, 0, 0, 0, 0, 0, 0, 0,\n",
            "        0, 0, 0, 0, 0, 0, 0, 0, 0, 0, 0, 0, 0, 0, 0, 0, 0, 0, 0, 0, 0, 0, 0, 0,\n",
            "        0, 0, 0, 0, 0, 0, 0, 0, 0, 0, 0, 0, 0, 0, 0, 0, 0, 0, 0, 0, 0, 0])}\n"
          ]
        }
      ],
      "source": [
        "# Tokenize the data\n",
        "def tokenize(batch):\n",
        "    tokenized_batch = tokenizer(batch['text'], padding=True, truncation=True)\n",
        "    tokenized_batch['label'] = batch['label']\n",
        "    return tokenized_batch\n",
        "\n",
        "train_dataset = dataset['train'].map(tokenize, batched=True)\n",
        "test_dataset = dataset['test'].map(tokenize, batched=True)\n",
        "\n",
        "# Set the data format\n",
        "train_dataset.set_format('torch', columns=['input_ids', 'attention_mask', 'label', 'text'])\n",
        "test_dataset.set_format('torch', columns=['input_ids', 'attention_mask', 'label', 'text'])\n",
        "\n",
        "print(train_dataset[0])\n",
        "# Set up the optimiser and loss function\n",
        "optimiser = Adam(model.parameters(), lr=5e-5,weight_decay=0.01)\n",
        "# Old Loss function, not usable as it is binary and will not capture necessary info\n",
        "#loss_fn = nn.BCEWithLogitsLoss()\n",
        "#New loss function\n",
        "loss_fn = nn.CrossEntropyLoss()\n",
        "\n",
        "# Define the training loop and prepare data for loss graph\n",
        "def train(model, train_loader, optimiser, loss_fn, device,num_epochs):\n",
        "    model.train()\n",
        "    train_losses=[]\n",
        "    for epoch in range(num_epochs):\n",
        "      # Sets epoch loss to 0 to calculate the value for each epoch\n",
        "      epoch_loss= 0.0\n",
        "      for batch in train_loader:\n",
        "          input_ids = batch['input_ids'].to(device)\n",
        "          attention_mask = batch['attention_mask'].to(device)\n",
        "          labels = batch['label'].to(device)\n",
        "          optimiser.zero_grad()\n",
        "          outputs = model(input_ids, attention_mask)\n",
        "          loss = loss_fn(outputs, labels.long())\n",
        "          # Debug print to check the loss, commented to keep displayed results a bit cleaner\n",
        "          #print(loss)\n",
        "          loss.backward()\n",
        "          optimiser.step()\n",
        "          # Adds loss to variable\n",
        "          epoch_loss+=loss.item()\n",
        "      # Calculates average loss in each epoch\n",
        "      epoch_loss /= len(train_loader)\n",
        "      # Append epoch loss to array\n",
        "      train_losses.append(epoch_loss)\n",
        "      print(f\"Epoch: {epoch+1}/{num_epochs}, Loss: {epoch_loss}\")\n",
        "    return train_losses\n",
        "\n",
        "# Define the evaluation loop\n",
        "def evaluate(model, test_loader, device):\n",
        "    model.eval()\n",
        "    correct, total = 0, 0\n",
        "    with torch.no_grad():\n",
        "        for batch in test_loader:\n",
        "            input_ids = batch['input_ids'].to(device)\n",
        "            attention_mask = batch['attention_mask'].to(device)\n",
        "            labels = batch['label'].to(device)\n",
        "\n",
        "            outputs = model(input_ids, attention_mask)\n",
        "            predictions = torch.argmax(outputs,dim=1)\n",
        "\n",
        "            total += labels.size(0)\n",
        "            correct += (predictions == labels).sum().item()\n",
        "\n",
        "    accuracy = correct / total\n",
        "    return accuracy\n",
        "\n",
        "# Define eval for confusion matrix\n",
        "def eval_conf_matrix(model, test_loader, device):\n",
        "  model.eval()\n",
        "  all_preds = []\n",
        "  all_labels = []\n",
        "  with torch.no_grad():\n",
        "    for batch in test_loader:\n",
        "      input_ids = batch['input_ids'].to(device)\n",
        "      attention_mask = batch['attention_mask'].to(device)\n",
        "      labels = batch['label'].to(device)\n",
        "      #Debug print for labels to ensure they match the intended result\n",
        "      #print(\"Labels:\", labels)\n",
        "\n",
        "      outputs = model(input_ids, attention_mask)\n",
        "      # Debug prints to check outputs and their shape, prior issue with shape comparison, now fixed\n",
        "      #print(\"Outputs:\", outputs)\n",
        "      #print(\"Outputs shape:\", outputs.shape)\n",
        "      predictions = torch.argmax(outputs, dim=1).cpu().numpy()\n",
        "\n",
        "      all_preds.extend(predictions)\n",
        "      all_labels.extend(labels.cpu().numpy())\n",
        "\n",
        "  ## Check expected range of class indices\n",
        "  #print(\"Min Label:\", np.min(all_labels))\n",
        "  #print(\"Max Label:\", np.max(all_labels))\n",
        "\n",
        "  ## Debug prints to show labels\n",
        "  #print(\"True Labels:\", all_labels)\n",
        "  #print(\"Predictions:\", all_preds)\n",
        "\n",
        "  return all_labels, all_preds"
      ]
    },
    {
      "cell_type": "markdown",
      "source": [
        "##Training the model, adding padding and producing results for BERT"
      ],
      "metadata": {
        "id": "rpHeW1miuvvS"
      }
    },
    {
      "cell_type": "code",
      "execution_count": 63,
      "metadata": {
        "colab": {
          "base_uri": "https://localhost:8080/",
          "height": 1000
        },
        "id": "tMAWkZ2HJe9j",
        "outputId": "999dee49-3503-4459-905c-15092c35754d"
      },
      "outputs": [
        {
          "output_type": "stream",
          "name": "stdout",
          "text": [
            "Epoch: 1/5, Loss: 0.3725865481719375\n",
            "Epoch: 2/5, Loss: 0.12506680562719702\n",
            "Epoch: 3/5, Loss: 0.09438995905313641\n",
            "Epoch: 4/5, Loss: 0.0900920123013202\n",
            "Epoch: 5/5, Loss: 0.07142293056752533\n",
            "Test Accuracy: 0.928\n"
          ]
        },
        {
          "output_type": "display_data",
          "data": {
            "text/plain": [
              "<Figure size 640x480 with 1 Axes>"
            ],
            "image/png": "[encoded data removed]"
          },
          "metadata": {}
        },
        {
          "output_type": "display_data",
          "data": {
            "text/plain": [
              "<Figure size 640x480 with 0 Axes>"
            ]
          },
          "metadata": {}
        },
        {
          "output_type": "display_data",
          "data": {
            "text/plain": [
              "<Figure size 600x600 with 2 Axes>"
            ],
            "image/png": "[encoded data removed]"
          },
          "metadata": {}
        },
        {
          "output_type": "stream",
          "name": "stdout",
          "text": [
            "Classification Report for DistilBERT:\n",
            "              precision    recall  f1-score   support\n",
            "\n",
            "           0       0.97      0.97      0.97       581\n",
            "           1       0.95      0.95      0.95       695\n",
            "           2       0.80      0.86      0.83       159\n",
            "           3       0.94      0.92      0.93       275\n",
            "           4       0.91      0.86      0.89       224\n",
            "           5       0.73      0.77      0.75        66\n",
            "\n",
            "    accuracy                           0.93      2000\n",
            "   macro avg       0.88      0.89      0.89      2000\n",
            "weighted avg       0.93      0.93      0.93      2000\n",
            "\n"
          ]
        }
      ],
      "source": [
        "# Train the model\n",
        "device = torch.device('cuda' if torch.cuda.is_available() else 'cpu')\n",
        "model.to(device)\n",
        "\n",
        "# Pad the sequences\n",
        "def collate_fn(batch):\n",
        "  input_ids = [item['input_ids'] for item in batch]\n",
        "  attention_mask = [item['attention_mask'] for item in batch]\n",
        "  labels = [item['label'] for item in batch]\n",
        "  texts = [item['text'] for item in batch]\n",
        "\n",
        "  input_ids = pad_sequence(input_ids, batch_first=True, padding_value=tokenizer.pad_token_id)\n",
        "  attention_mask = pad_sequence(attention_mask,batch_first=True,padding_value=0)\n",
        "\n",
        "  return {\n",
        "      'input_ids': input_ids,\n",
        "      'attention_mask': attention_mask,\n",
        "      'label': torch.tensor(labels),\n",
        "      'text': texts\n",
        "  }\n",
        "\n",
        "train_loader = torch.utils.data.DataLoader(train_dataset, batch_size=32, shuffle = True, collate_fn = collate_fn)\n",
        "test_loader = torch.utils.data.DataLoader(test_dataset, batch_size=32, shuffle = False, collate_fn = collate_fn)\n",
        "\n",
        "# Set number of epochs - Used later for data representation displayed\n",
        "epoch_val = 5\n",
        "\n",
        "# Train is placed into variable names history for use in data representation later\n",
        "history = train(model, train_loader, optimiser, loss_fn, device,epoch_val)\n",
        "# # Displays all results of loss from history, used for debugging\n",
        "# print(history)\n",
        "# Accuracy calculated and used for confusion matrix later\n",
        "accuracy = evaluate(model, test_loader, device)\n",
        "print(f'Test Accuracy: {accuracy:.3f}')\n",
        "\n",
        "# Loss graph for training\n",
        "plt.figure(1)\n",
        "plt.plot(range(1, epoch_val + 1), history , label=\"Training Loss\")\n",
        "plt.xlabel(\"Epoch\")\n",
        "plt.ylabel(\"Loss\")\n",
        "plt.title(\"Training Loss vs Epochs\")\n",
        "plt.legend()\n",
        "plt.show()\n",
        "\n",
        "# Confusion matrix + data collection for error analysis\n",
        "plt.figure(2)\n",
        "true_labels, predictions = eval_conf_matrix(model, test_loader, device)\n",
        "\n",
        "# Print confusion matrix - Debug test\n",
        "#print(\"Confusion Matrix:\", conf_mat)\n",
        "\n",
        "conf_mat = confusion_matrix(true_labels,predictions)\n",
        "plt.figure(figsize = (6,6))\n",
        "sns.heatmap(conf_mat, annot=True, fmt=\"d\", cmap=\"Blues\",\n",
        "            xticklabels=dataset['train'].features['label'].names,\n",
        "            yticklabels=dataset['train'].features['label'].names)\n",
        "plt.xlabel('Predicted')\n",
        "plt.ylabel('True')\n",
        "plt.title('Confusion Matrix')\n",
        "plt.show()\n",
        "\n",
        "# Classsification report\n",
        "print(\"Classification Report for DistilBERT:\")\n",
        "print(classification_report(true_labels, predictions))"
      ]
    },
    {
      "cell_type": "markdown",
      "source": [
        "Error Analysis: Misclassified Data"
      ],
      "metadata": {
        "id": "V3zbe5Kqi3XY"
      }
    },
    {
      "cell_type": "code",
      "source": [
        "misclassified_examples = []\n",
        "model.eval()\n",
        "with torch.no_grad():\n",
        "    for batch in test_loader:\n",
        "        input_ids = batch['input_ids'].to(device)\n",
        "        attention_mask = batch['attention_mask'].to(device)\n",
        "        labels = batch['label'].to(device)\n",
        "        texts = batch['text']\n",
        "\n",
        "        outputs = model(input_ids, attention_mask)\n",
        "        predictions = torch.argmax(outputs, dim=1)\n",
        "\n",
        "        for text, prediction, true_label in zip(batch['text'], predictions, labels):\n",
        "            predicted_label = prediction.item()\n",
        "            true_label = true_label.item()\n",
        "\n",
        "            # Add text to list when label is incorrect\n",
        "            if predicted_label != true_label:\n",
        "                misclassified_examples.append((text, predicted_label, true_label))\n",
        "\n",
        "print(\"Misclassified Examples:\")\n",
        "for i, (text, predicted_label, true_label) in enumerate(misclassified_examples[:5]):\n",
        "    print(f\"Example {i + 1}:\")\n",
        "    print(\"Text:\", text)\n",
        "    print(\"Predicted Label:\", predicted_label)\n",
        "    print(\"True Label:\", true_label)\n",
        "    print()\n",
        "\n",
        "# REFERENCE FOR LABELS AND WHAT THEY ARE\n",
        "# 0 = JOY\n",
        "# 1 = SADNESS\n",
        "# 2 = ANGER\n",
        "# 3 = FEAR\n",
        "# 4 = LOVE\n",
        "# 5 = SURPRISE"
      ],
      "metadata": {
        "colab": {
          "base_uri": "https://localhost:8080/"
        },
        "id": "S3HHUv_Wi8F8",
        "outputId": "b8e37d05-d2e3-4196-952f-6bd042a41a77"
      },
      "execution_count": 64,
      "outputs": [
        {
          "output_type": "stream",
          "name": "stdout",
          "text": [
            "Misclassified Examples:\n",
            "Example 1:\n",
            "Text: i don t feel particularly agitated\n",
            "Predicted Label: 3\n",
            "True Label: 4\n",
            "\n",
            "Example 2:\n",
            "Text: i feel if i completely hated things i d exercise my democratic right speak my mind in what ever ways possible and try to enact a change\n",
            "Predicted Label: 0\n",
            "True Label: 3\n",
            "\n",
            "Example 3:\n",
            "Text: i feel a bit stressed even though all the things i have going on are fun\n",
            "Predicted Label: 0\n",
            "True Label: 3\n",
            "\n",
            "Example 4:\n",
            "Text: i am right handed however i play billiards left handed naturally so me trying to play right handed feels weird\n",
            "Predicted Label: 4\n",
            "True Label: 5\n",
            "\n",
            "Example 5:\n",
            "Text: i feel like i am in paradise kissing those sweet lips make me feel like i dive into a magical world of love\n",
            "Predicted Label: 2\n",
            "True Label: 1\n",
            "\n"
          ]
        }
      ]
    },
    {
      "cell_type": "markdown",
      "source": [
        "CODE FOR BERT ENDS AND Naive Bayes BEGINS"
      ],
      "metadata": {
        "id": "VQBnh8_W04GG"
      }
    },
    {
      "cell_type": "markdown",
      "source": [
        "## Model 2:\n",
        "Step 1: Imports and installs"
      ],
      "metadata": {
        "id": "foNsWq7oWVaI"
      }
    },
    {
      "cell_type": "code",
      "source": [
        "# Installs necessary\n",
        "!pip install transformers\n",
        "!pip install datasets"
      ],
      "metadata": {
        "colab": {
          "base_uri": "https://localhost:8080/"
        },
        "id": "3a3zfSF9eXvn",
        "outputId": "6ef8a1cc-254c-4cda-c13e-684b18954452"
      },
      "execution_count": 65,
      "outputs": [
        {
          "output_type": "stream",
          "name": "stdout",
          "text": [
            "Requirement already satisfied: transformers in /usr/local/lib/python3.10/dist-packages (4.40.1)\n",
            "Requirement already satisfied: filelock in /usr/local/lib/python3.10/dist-packages (from transformers) (3.14.0)\n",
            "Requirement already satisfied: huggingface-hub<1.0,>=0.19.3 in /usr/local/lib/python3.10/dist-packages (from transformers) (0.23.0)\n",
            "Requirement already satisfied: numpy>=1.17 in /usr/local/lib/python3.10/dist-packages (from transformers) (1.25.2)\n",
            "Requirement already satisfied: packaging>=20.0 in /usr/local/lib/python3.10/dist-packages (from transformers) (24.0)\n",
            "Requirement already satisfied: pyyaml>=5.1 in /usr/local/lib/python3.10/dist-packages (from transformers) (6.0.1)\n",
            "Requirement already satisfied: regex!=2019.12.17 in /usr/local/lib/python3.10/dist-packages (from transformers) (2023.12.25)\n",
            "Requirement already satisfied: requests in /usr/local/lib/python3.10/dist-packages (from transformers) (2.31.0)\n",
            "Requirement already satisfied: tokenizers<0.20,>=0.19 in /usr/local/lib/python3.10/dist-packages (from transformers) (0.19.1)\n",
            "Requirement already satisfied: safetensors>=0.4.1 in /usr/local/lib/python3.10/dist-packages (from transformers) (0.4.3)\n",
            "Requirement already satisfied: tqdm>=4.27 in /usr/local/lib/python3.10/dist-packages (from transformers) (4.66.2)\n",
            "Requirement already satisfied: fsspec>=2023.5.0 in /usr/local/lib/python3.10/dist-packages (from huggingface-hub<1.0,>=0.19.3->transformers) (2023.6.0)\n",
            "Requirement already satisfied: typing-extensions>=3.7.4.3 in /usr/local/lib/python3.10/dist-packages (from huggingface-hub<1.0,>=0.19.3->transformers) (4.11.0)\n",
            "Requirement already satisfied: charset-normalizer<4,>=2 in /usr/local/lib/python3.10/dist-packages (from requests->transformers) (3.3.2)\n",
            "Requirement already satisfied: idna<4,>=2.5 in /usr/local/lib/python3.10/dist-packages (from requests->transformers) (3.7)\n",
            "Requirement already satisfied: urllib3<3,>=1.21.1 in /usr/local/lib/python3.10/dist-packages (from requests->transformers) (2.0.7)\n",
            "Requirement already satisfied: certifi>=2017.4.17 in /usr/local/lib/python3.10/dist-packages (from requests->transformers) (2024.2.2)\n",
            "Requirement already satisfied: datasets in /usr/local/lib/python3.10/dist-packages (2.19.1)\n",
            "Requirement already satisfied: filelock in /usr/local/lib/python3.10/dist-packages (from datasets) (3.14.0)\n",
            "Requirement already satisfied: numpy>=1.17 in /usr/local/lib/python3.10/dist-packages (from datasets) (1.25.2)\n",
            "Requirement already satisfied: pyarrow>=12.0.0 in /usr/local/lib/python3.10/dist-packages (from datasets) (14.0.2)\n",
            "Requirement already satisfied: pyarrow-hotfix in /usr/local/lib/python3.10/dist-packages (from datasets) (0.6)\n",
            "Requirement already satisfied: dill<0.3.9,>=0.3.0 in /usr/local/lib/python3.10/dist-packages (from datasets) (0.3.8)\n",
            "Requirement already satisfied: pandas in /usr/local/lib/python3.10/dist-packages (from datasets) (2.0.3)\n",
            "Requirement already satisfied: requests>=2.19.0 in /usr/local/lib/python3.10/dist-packages (from datasets) (2.31.0)\n",
            "Requirement already satisfied: tqdm>=4.62.1 in /usr/local/lib/python3.10/dist-packages (from datasets) (4.66.2)\n",
            "Requirement already satisfied: xxhash in /usr/local/lib/python3.10/dist-packages (from datasets) (3.4.1)\n",
            "Requirement already satisfied: multiprocess in /usr/local/lib/python3.10/dist-packages (from datasets) (0.70.16)\n",
            "Requirement already satisfied: fsspec[http]<=2024.3.1,>=2023.1.0 in /usr/local/lib/python3.10/dist-packages (from datasets) (2023.6.0)\n",
            "Requirement already satisfied: aiohttp in /usr/local/lib/python3.10/dist-packages (from datasets) (3.9.5)\n",
            "Requirement already satisfied: huggingface-hub>=0.21.2 in /usr/local/lib/python3.10/dist-packages (from datasets) (0.23.0)\n",
            "Requirement already satisfied: packaging in /usr/local/lib/python3.10/dist-packages (from datasets) (24.0)\n",
            "Requirement already satisfied: pyyaml>=5.1 in /usr/local/lib/python3.10/dist-packages (from datasets) (6.0.1)\n",
            "Requirement already satisfied: aiosignal>=1.1.2 in /usr/local/lib/python3.10/dist-packages (from aiohttp->datasets) (1.3.1)\n",
            "Requirement already satisfied: attrs>=17.3.0 in /usr/local/lib/python3.10/dist-packages (from aiohttp->datasets) (23.2.0)\n",
            "Requirement already satisfied: frozenlist>=1.1.1 in /usr/local/lib/python3.10/dist-packages (from aiohttp->datasets) (1.4.1)\n",
            "Requirement already satisfied: multidict<7.0,>=4.5 in /usr/local/lib/python3.10/dist-packages (from aiohttp->datasets) (6.0.5)\n",
            "Requirement already satisfied: yarl<2.0,>=1.0 in /usr/local/lib/python3.10/dist-packages (from aiohttp->datasets) (1.9.4)\n",
            "Requirement already satisfied: async-timeout<5.0,>=4.0 in /usr/local/lib/python3.10/dist-packages (from aiohttp->datasets) (4.0.3)\n",
            "Requirement already satisfied: typing-extensions>=3.7.4.3 in /usr/local/lib/python3.10/dist-packages (from huggingface-hub>=0.21.2->datasets) (4.11.0)\n",
            "Requirement already satisfied: charset-normalizer<4,>=2 in /usr/local/lib/python3.10/dist-packages (from requests>=2.19.0->datasets) (3.3.2)\n",
            "Requirement already satisfied: idna<4,>=2.5 in /usr/local/lib/python3.10/dist-packages (from requests>=2.19.0->datasets) (3.7)\n",
            "Requirement already satisfied: urllib3<3,>=1.21.1 in /usr/local/lib/python3.10/dist-packages (from requests>=2.19.0->datasets) (2.0.7)\n",
            "Requirement already satisfied: certifi>=2017.4.17 in /usr/local/lib/python3.10/dist-packages (from requests>=2.19.0->datasets) (2024.2.2)\n",
            "Requirement already satisfied: python-dateutil>=2.8.2 in /usr/local/lib/python3.10/dist-packages (from pandas->datasets) (2.8.2)\n",
            "Requirement already satisfied: pytz>=2020.1 in /usr/local/lib/python3.10/dist-packages (from pandas->datasets) (2023.4)\n",
            "Requirement already satisfied: tzdata>=2022.1 in /usr/local/lib/python3.10/dist-packages (from pandas->datasets) (2024.1)\n",
            "Requirement already satisfied: six>=1.5 in /usr/local/lib/python3.10/dist-packages (from python-dateutil>=2.8.2->pandas->datasets) (1.16.0)\n"
          ]
        }
      ]
    },
    {
      "cell_type": "code",
      "source": [
        "# Torch imports\n",
        "import torch\n",
        "import torch.nn as nn\n",
        "import torch.optim as optim\n",
        "# dataset import\n",
        "from datasets import load_dataset\n",
        "# sklearn import\n",
        "# Initially used count vectoriser, attempted tfidf vectoriser\n",
        "from sklearn.feature_extraction.text import CountVectorizer\n",
        "#from sklearn.feature_extraction.text import TfidfVectorizer\n",
        "from sklearn.feature_extraction.text import TfidfTransformer\n",
        "from sklearn.naive_bayes import MultinomialNB\n",
        "from sklearn.metrics import accuracy_score\n",
        "from sklearn.model_selection import cross_val_score\n",
        "from sklearn.metrics import accuracy_score, confusion_matrix, classification_report\n",
        "# extra imports to get heatmap for confusion matrix\n",
        "import seaborn as sns\n",
        "import matplotlib.pyplot as plt\n",
        "# Imports for custom naive bayes model\n",
        "import torch.nn.functional as F\n",
        "import numpy as np\n",
        "from torch.optim import AdamW as Adam"
      ],
      "metadata": {
        "id": "Mh9eJydhW8Ff"
      },
      "execution_count": 66,
      "outputs": []
    },
    {
      "cell_type": "markdown",
      "source": [
        "Loading dataset"
      ],
      "metadata": {
        "id": "bp-YTkJQa1nz"
      }
    },
    {
      "cell_type": "code",
      "source": [
        "# Load dataset similar to BERT\n",
        "dataset = load_dataset('emotion',trust_remote_code = True)\n",
        "# Data is already split in huggingface (16k train, 2k test 2k validation)\n",
        "train_data = dataset['train']\n",
        "test_data = dataset['test']\n",
        "val_data = dataset['validation']"
      ],
      "metadata": {
        "id": "dLN46huCa3hI"
      },
      "execution_count": 67,
      "outputs": []
    },
    {
      "cell_type": "markdown",
      "source": [
        "Step 2: Vectorisation of data"
      ],
      "metadata": {
        "id": "PGN7eVuLal7F"
      }
    },
    {
      "cell_type": "code",
      "source": [
        "# CODE FOR USING COUNTVECTORISER\n",
        "# Uses countVectoriser() to tokenise and vectorise data\n",
        "# Hyperparameters for count vectoriser\n",
        "# Best values currently for accuracy are 8,0.85,1,3\n",
        "min_df_val = 8\n",
        "max_df_val = 0.85\n",
        "ngram_val_min = 1\n",
        "ngram_val_max = 3\n",
        "# Count vectoriser with hyperparams count vectoriser automatically tokenises and vectorises data\n",
        "vectoriser_nb = CountVectorizer(min_df=min_df_val, max_df=max_df_val, ngram_range=(ngram_val_min, ngram_val_max))\n",
        "# Setting values into data for checking\n",
        "# Combine train and val then split after fitting\n",
        "combined_texts = train_data[\"text\"] + val_data[\"text\"]\n",
        "X_combined = vectoriser_nb.fit_transform(combined_texts)\n",
        "X_train = X_combined[:len(train_data)]\n",
        "X_val = X_combined[len(train_data):len(train_data)+len(val_data)]\n",
        "X_test = vectoriser_nb.transform(test_data[\"text\"])\n",
        "# Define labels for each set\n",
        "y_train = train_data[\"label\"]\n",
        "y_test = test_data[\"label\"]\n",
        "y_val = val_data[\"label\"]"
      ],
      "metadata": {
        "id": "ABoH-DIoallf"
      },
      "execution_count": 68,
      "outputs": []
    },
    {
      "cell_type": "markdown",
      "source": [
        "TFIDF CODE (IS COMMMENTED OUT TO PREVENT OVERLAPPING IN CODE) RESULTS IN LOWER OVERALL ACCURACY"
      ],
      "metadata": {
        "id": "OyyAkxp9COFO"
      }
    },
    {
      "cell_type": "code",
      "source": [
        "# # CODE FOR TFIDF VECTORISER\n",
        "# # Splits text, splits by whitespace so ngrams will not function with this\n",
        "# def tokeniser(text):\n",
        "#   return text.split()\n",
        "\n",
        "# # Convert to strings to allow for tokenisation\n",
        "# train_texts_tfidf = [example['text'] for example in train_data]\n",
        "# test_texts_tfidf = [example['text'] for example in test_data]\n",
        "# val_texts_tfidf = [example['text'] for example in val_data]\n",
        "\n",
        "# # count vectoriser to count frequency of tokens\n",
        "# # Hyperparams for countvectoriser\n",
        "# min_df_val = 8\n",
        "# max_df_val = 0.85\n",
        "# ngram_val_min = 1\n",
        "# ngram_val_max = 3\n",
        "# count_vectoriser_tfidf = CountVectorizer(tokenizer=tokeniser, min_df=min_df_val, max_df=max_df_val, ngram_range=(ngram_val_min, ngram_val_max))\n",
        "# X_train_num = count_vectoriser_tfidf.fit_transform(train_texts_tfidf)\n",
        "# X_test_num = count_vectoriser_tfidf.transform(test_texts_tfidf)\n",
        "# X_val_num = count_vectoriser_tfidf.transform(val_texts_tfidf)\n",
        "\n",
        "# # Transform the data  to tfidf\n",
        "# tfidf_transformer = TfidfTransformer()\n",
        "# X_train_tfidf = tfidf_transformer.fit_transform(X_train_num)\n",
        "# X_test_tfidf = tfidf_transformer.transform(X_test_num)\n",
        "# X_val_tfidf = tfidf_transformer.transform(X_val_num)\n",
        "\n",
        "# # Define labels for each set\n",
        "# y_train = train_data[\"label\"]\n",
        "# y_test = test_data[\"label\"]\n",
        "# y_val = val_data[\"label\"]"
      ],
      "metadata": {
        "id": "6Q1mfle6CPoE"
      },
      "execution_count": 69,
      "outputs": []
    },
    {
      "cell_type": "markdown",
      "source": [
        " Step 3: Creation of model and hyperparameters involved"
      ],
      "metadata": {
        "id": "5lITlDMAcOBn"
      }
    },
    {
      "cell_type": "code",
      "source": [
        "# Make the model a Naive Bayes multinomial for the 6 potential labels\n",
        "# Setting Hyperparameter in order to  tweak results\n",
        "# Best value right now for alpha with other hyperparams is 0.45\n",
        "alpha_val = 0.45\n",
        "model = MultinomialNB(alpha=alpha_val)"
      ],
      "metadata": {
        "id": "ZfSC9zRtfymy"
      },
      "execution_count": 70,
      "outputs": []
    },
    {
      "cell_type": "markdown",
      "source": [
        "Step 4: Fitting model"
      ],
      "metadata": {
        "id": "K0DkBI1fm-xm"
      }
    },
    {
      "cell_type": "code",
      "source": [
        "# Model for regular countvectoriser\n",
        "model.fit(X_train, y_train)\n",
        "# # test to use tfidf for model instead\n",
        "# model.fit(X_train_tfidf,y_train)"
      ],
      "metadata": {
        "id": "gyxQBtNDnDML",
        "colab": {
          "base_uri": "https://localhost:8080/",
          "height": 74
        },
        "outputId": "62e35603-c542-4e81-9d52-037e40027656"
      },
      "execution_count": 71,
      "outputs": [
        {
          "output_type": "execute_result",
          "data": {
            "text/plain": [
              "MultinomialNB(alpha=0.45)"
            ],
            "text/html": [
              "<style>#sk-container-id-1 {color: black;background-color: white;}#sk-container-id-1 pre{padding: 0;}#sk-container-id-1 div.sk-toggleable {background-color: white;}#sk-container-id-1 label.sk-toggleable__label {cursor: pointer;display: block;width: 100%;margin-bottom: 0;padding: 0.3em;box-sizing: border-box;text-align: center;}#sk-container-id-1 label.sk-toggleable__label-arrow:before {content: \"▸\";float: left;margin-right: 0.25em;color: #696969;}#sk-container-id-1 label.sk-toggleable__label-arrow:hover:before {color: black;}#sk-container-id-1 div.sk-estimator:hover label.sk-toggleable__label-arrow:before {color: black;}#sk-container-id-1 div.sk-toggleable__content {max-height: 0;max-width: 0;overflow: hidden;text-align: left;background-color: #f0f8ff;}#sk-container-id-1 div.sk-toggleable__content pre {margin: 0.2em;color: black;border-radius: 0.25em;background-color: #f0f8ff;}#sk-container-id-1 input.sk-toggleable__control:checked~div.sk-toggleable__content {max-height: 200px;max-width: 100%;overflow: auto;}#sk-container-id-1 input.sk-toggleable__control:checked~label.sk-toggleable__label-arrow:before {content: \"▾\";}#sk-container-id-1 div.sk-estimator input.sk-toggleable__control:checked~label.sk-toggleable__label {background-color: #d4ebff;}#sk-container-id-1 div.sk-label input.sk-toggleable__control:checked~label.sk-toggleable__label {background-color: #d4ebff;}#sk-container-id-1 input.sk-hidden--visually {border: 0;clip: rect(1px 1px 1px 1px);clip: rect(1px, 1px, 1px, 1px);height: 1px;margin: -1px;overflow: hidden;padding: 0;position: absolute;width: 1px;}#sk-container-id-1 div.sk-estimator {font-family: monospace;background-color: #f0f8ff;border: 1px dotted black;border-radius: 0.25em;box-sizing: border-box;margin-bottom: 0.5em;}#sk-container-id-1 div.sk-estimator:hover {background-color: #d4ebff;}#sk-container-id-1 div.sk-parallel-item::after {content: \"\";width: 100%;border-bottom: 1px solid gray;flex-grow: 1;}#sk-container-id-1 div.sk-label:hover label.sk-toggleable__label {background-color: #d4ebff;}#sk-container-id-1 div.sk-serial::before {content: \"\";position: absolute;border-left: 1px solid gray;box-sizing: border-box;top: 0;bottom: 0;left: 50%;z-index: 0;}#sk-container-id-1 div.sk-serial {display: flex;flex-direction: column;align-items: center;background-color: white;padding-right: 0.2em;padding-left: 0.2em;position: relative;}#sk-container-id-1 div.sk-item {position: relative;z-index: 1;}#sk-container-id-1 div.sk-parallel {display: flex;align-items: stretch;justify-content: center;background-color: white;position: relative;}#sk-container-id-1 div.sk-item::before, #sk-container-id-1 div.sk-parallel-item::before {content: \"\";position: absolute;border-left: 1px solid gray;box-sizing: border-box;top: 0;bottom: 0;left: 50%;z-index: -1;}#sk-container-id-1 div.sk-parallel-item {display: flex;flex-direction: column;z-index: 1;position: relative;background-color: white;}#sk-container-id-1 div.sk-parallel-item:first-child::after {align-self: flex-end;width: 50%;}#sk-container-id-1 div.sk-parallel-item:last-child::after {align-self: flex-start;width: 50%;}#sk-container-id-1 div.sk-parallel-item:only-child::after {width: 0;}#sk-container-id-1 div.sk-dashed-wrapped {border: 1px dashed gray;margin: 0 0.4em 0.5em 0.4em;box-sizing: border-box;padding-bottom: 0.4em;background-color: white;}#sk-container-id-1 div.sk-label label {font-family: monospace;font-weight: bold;display: inline-block;line-height: 1.2em;}#sk-container-id-1 div.sk-label-container {text-align: center;}#sk-container-id-1 div.sk-container {/* jupyter's `normalize.less` sets `[hidden] { display: none; }` but bootstrap.min.css set `[hidden] { display: none !important; }` so we also need the `!important` here to be able to override the default hidden behavior on the sphinx rendered scikit-learn.org. See: https://github.com/scikit-learn/scikit-learn/issues/21755 */display: inline-block !important;position: relative;}#sk-container-id-1 div.sk-text-repr-fallback {display: none;}</style><div id=\"sk-container-id-1\" class=\"sk-top-container\"><div class=\"sk-text-repr-fallback\"><pre>MultinomialNB(alpha=0.45)</pre><b>In a Jupyter environment, please rerun this cell to show the HTML representation or trust the notebook. <br />On GitHub, the HTML representation is unable to render, please try loading this page with nbviewer.org.</b></div><div class=\"sk-container\" hidden><div class=\"sk-item\"><div class=\"sk-estimator sk-toggleable\"><input class=\"sk-toggleable__control sk-hidden--visually\" id=\"sk-estimator-id-1\" type=\"checkbox\" checked><label for=\"sk-estimator-id-1\" class=\"sk-toggleable__label sk-toggleable__label-arrow\">MultinomialNB</label><div class=\"sk-toggleable__content\"><pre>MultinomialNB(alpha=0.45)</pre></div></div></div></div></div>"
            ]
          },
          "metadata": {},
          "execution_count": 71
        }
      ]
    },
    {
      "cell_type": "markdown",
      "source": [
        "Step 4.5: Validation of dataset"
      ],
      "metadata": {
        "id": "P2ImX-PKimxI"
      }
    },
    {
      "cell_type": "code",
      "source": [
        "# Cross-validation used, hyperparam for cv\n",
        "# Not the best result for val but produces best result for accuracy is 10 fold\n",
        "cross_fold_val = 10\n",
        "# # Version for tfidf - Accuracy is lower at 0.524\n",
        "#acc_scores = cross_val_score(model, X_val_tfidf, y_val, cv=cross_fold_val)\n",
        "# Version for count Vectoriser\n",
        "acc_scores = cross_val_score(model, X_val, y_val, cv=cross_fold_val)\n",
        "print(\"Cross-validation scores:\", acc_scores)\n",
        "print(\"Mean accuracy:\", acc_scores.mean())"
      ],
      "metadata": {
        "colab": {
          "base_uri": "https://localhost:8080/"
        },
        "id": "I-XeNorpipDg",
        "outputId": "aa864535-85a4-46fb-98b3-ff969aec1ea9"
      },
      "execution_count": 72,
      "outputs": [
        {
          "output_type": "stream",
          "name": "stdout",
          "text": [
            "Cross-validation scores: [0.66  0.6   0.605 0.605 0.61  0.615 0.65  0.635 0.62  0.53 ]\n",
            "Mean accuracy: 0.6130000000000001\n"
          ]
        }
      ]
    },
    {
      "cell_type": "markdown",
      "source": [
        "Step 5: Evaluation of model and resulting accuracy"
      ],
      "metadata": {
        "id": "xoFFaraogW5e"
      }
    },
    {
      "cell_type": "code",
      "source": [
        "# # Version of tfidf - Accuracy results in 0.7265, about 6% lower than regular vectoriser, LEAVE TFIDF CODE COMMENTED\n",
        "# y_predict = model.predict(X_test_tfidf)\n",
        "# # Versino for countvectoriser\n",
        "y_predict = model.predict(X_test)\n",
        "accuracy_nb = accuracy_score(y_test, y_predict)\n",
        "print(\"Accuracy: \", accuracy_nb)\n",
        "# Best Accuracy right now is 0.797\n",
        "# Places into confusion matrix\n",
        "conf_mat_NB = confusion_matrix(y_test, y_predict)"
      ],
      "metadata": {
        "id": "oY0UJiXSgYdG",
        "colab": {
          "base_uri": "https://localhost:8080/"
        },
        "outputId": "8bc34afd-75f4-483b-8e63-8ffb272b1b2b"
      },
      "execution_count": 73,
      "outputs": [
        {
          "output_type": "stream",
          "name": "stdout",
          "text": [
            "Accuracy:  0.797\n"
          ]
        }
      ]
    },
    {
      "cell_type": "markdown",
      "source": [
        "Step 6: Displaying results"
      ],
      "metadata": {
        "id": "mSs79S_ZndU4"
      }
    },
    {
      "cell_type": "code",
      "source": [
        "plt.figure(figsize=(10, 8))\n",
        "sns.heatmap(conf_mat_NB, annot=True, fmt=\"d\", cmap=\"Blues\", xticklabels=dataset[\"train\"].features[\"label\"].names, yticklabels=dataset[\"train\"].features[\"label\"].names)\n",
        "plt.title(\"Confusion Matrix\")\n",
        "plt.xlabel(\"Predicted Label\")\n",
        "plt.ylabel(\"True Label\")\n",
        "plt.show()\n",
        "\n",
        "# Print Classification Report, gets crucial info for report\n",
        "print(\"Classification Report for Naive Bayes:\")\n",
        "print(classification_report(y_test, y_predict))"
      ],
      "metadata": {
        "id": "sWiY1jQHnfhF",
        "colab": {
          "base_uri": "https://localhost:8080/",
          "height": 961
        },
        "outputId": "b351eb11-5232-444b-f982-1990498a5e9e"
      },
      "execution_count": 74,
      "outputs": [
        {
          "output_type": "display_data",
          "data": {
            "text/plain": [
              "<Figure size 1000x800 with 2 Axes>"
            ],
            "image/png": "[encoded data removed]"
          },
          "metadata": {}
        },
        {
          "output_type": "stream",
          "name": "stdout",
          "text": [
            "Classification Report for Naive Bayes:\n",
            "              precision    recall  f1-score   support\n",
            "\n",
            "           0       0.86      0.84      0.85       581\n",
            "           1       0.85      0.87      0.86       695\n",
            "           2       0.58      0.62      0.60       159\n",
            "           3       0.79      0.75      0.76       275\n",
            "           4       0.71      0.71      0.71       224\n",
            "           5       0.57      0.52      0.54        66\n",
            "\n",
            "    accuracy                           0.80      2000\n",
            "   macro avg       0.72      0.72      0.72      2000\n",
            "weighted avg       0.80      0.80      0.80      2000\n",
            "\n"
          ]
        }
      ]
    },
    {
      "cell_type": "markdown",
      "source": [
        "Error Analysis: Misclassified Data"
      ],
      "metadata": {
        "id": "RckwGoWndvTa"
      }
    },
    {
      "cell_type": "code",
      "source": [
        "misclassified_examples = []\n",
        "for i, (text, true_label) in enumerate(zip(test_data[\"text\"], y_test)):\n",
        "    text_features = vectoriser_nb.transform([text])\n",
        "    predicted_label = model.predict(text_features)[0]\n",
        "    if predicted_label != true_label:\n",
        "        misclassified_examples.append((text, predicted_label, true_label))\n",
        "\n",
        "print(\"Misclassified Examples:\")\n",
        "for i, (text, predicted_label, true_label) in enumerate(misclassified_examples[:5]):\n",
        "    print(f\"Example {i + 1}:\")\n",
        "    print(\"Text:\", text)\n",
        "    print(\"Predicted Label:\", predicted_label)\n",
        "    print(\"True Label:\", true_label)\n",
        "    print()\n",
        "\n",
        "# REFERENCE FOR LABELS AND WHAT THEY ARE\n",
        "# 0 = JOY\n",
        "# 1 = SADNESS\n",
        "# 2 = ANGER\n",
        "# 3 = FEAR\n",
        "# 4 = LOVE\n",
        "# 5 = SURPRISE"
      ],
      "metadata": {
        "colab": {
          "base_uri": "https://localhost:8080/"
        },
        "id": "GFCGx4cJdyXT",
        "outputId": "0c81f07c-db51-46cd-ff38-4bd098843580"
      },
      "execution_count": 75,
      "outputs": [
        {
          "output_type": "stream",
          "name": "stdout",
          "text": [
            "Misclassified Examples:\n",
            "Example 1:\n",
            "Text: i left with my bouquet of red and yellow tulips under my arm feeling slightly more optimistic than when i arrived\n",
            "Predicted Label: 4\n",
            "True Label: 1\n",
            "\n",
            "Example 2:\n",
            "Text: i jest i feel grumpy tired and pre menstrual which i probably am but then again its only been a week and im about as fit as a walrus on vacation for the summer\n",
            "Predicted Label: 0\n",
            "True Label: 3\n",
            "\n",
            "Example 3:\n",
            "Text: i don t feel particularly agitated\n",
            "Predicted Label: 3\n",
            "True Label: 4\n",
            "\n",
            "Example 4:\n",
            "Text: i feel beautifully emotional knowing that these women of whom i knew just a handful were holding me and my baba on our journey\n",
            "Predicted Label: 2\n",
            "True Label: 0\n",
            "\n",
            "Example 5:\n",
            "Text: i pay attention it deepens into a feeling of being invaded and helpless\n",
            "Predicted Label: 0\n",
            "True Label: 4\n",
            "\n"
          ]
        }
      ]
    }
  ],
  "metadata": {
    "accelerator": "GPU",
    "colab": {
      "gpuType": "T4",
      "provenance": [],
      "mount_file_id": "119JwpPrOnsOkuDpmIHtg2y3epaR_72kg",
      "authorship_tag": "ABX9TyOHA/KOubjTKQYJgFkDoF+0",
      "include_colab_link": true
    },
    "kernelspec": {
      "display_name": "Python 3",
      "name": "python3"
    },
    "language_info": {
      "name": "python"
    },
    "widgets": {
      "application/vnd.jupyter.widget-state+json": {
        "c5228b49e30349dc829bcc0927889c09": {
          "model_module": "@jupyter-widgets/controls",
          "model_name": "HBoxModel",
          "model_module_version": "1.5.0",
          "state": {
            "_dom_classes": [],
            "_model_module": "@jupyter-widgets/controls",
            "_model_module_version": "1.5.0",
            "_model_name": "HBoxModel",
            "_view_count": null,
            "_view_module": "@jupyter-widgets/controls",
            "_view_module_version": "1.5.0",
            "_view_name": "HBoxView",
            "box_style": "",
            "children": [
              "IPY_MODEL_3abe2044b77c4d3ca381e75715954892",
              "IPY_MODEL_e3e7bedd307249f881164d191f875502",
              "IPY_MODEL_cc63473f00374952ba15a5f0d8a5d60e"
            ],
            "layout": "IPY_MODEL_4d39f3a9a06145a4ab53705334174cdb"
          }
        },
        "3abe2044b77c4d3ca381e75715954892": {
          "model_module": "@jupyter-widgets/controls",
          "model_name": "HTMLModel",
          "model_module_version": "1.5.0",
          "state": {
            "_dom_classes": [],
            "_model_module": "@jupyter-widgets/controls",
            "_model_module_version": "1.5.0",
            "_model_name": "HTMLModel",
            "_view_count": null,
            "_view_module": "@jupyter-widgets/controls",
            "_view_module_version": "1.5.0",
            "_view_name": "HTMLView",
            "description": "",
            "description_tooltip": null,
            "layout": "IPY_MODEL_76ae0f5e74824964ba674c421eafb816",
            "placeholder": "​",
            "style": "IPY_MODEL_6d183bd6ccf245f0a9403cb44bbf1648",
            "value": "Map: 100%"
          }
        },
        "e3e7bedd307249f881164d191f875502": {
          "model_module": "@jupyter-widgets/controls",
          "model_name": "FloatProgressModel",
          "model_module_version": "1.5.0",
          "state": {
            "_dom_classes": [],
            "_model_module": "@jupyter-widgets/controls",
            "_model_module_version": "1.5.0",
            "_model_name": "FloatProgressModel",
            "_view_count": null,
            "_view_module": "@jupyter-widgets/controls",
            "_view_module_version": "1.5.0",
            "_view_name": "ProgressView",
            "bar_style": "success",
            "description": "",
            "description_tooltip": null,
            "layout": "IPY_MODEL_67311fb26cd74ec79ee3a7424e27a40e",
            "max": 2000,
            "min": 0,
            "orientation": "horizontal",
            "style": "IPY_MODEL_2839cd520a1744b496e0b3f292ca4398",
            "value": 2000
          }
        },
        "cc63473f00374952ba15a5f0d8a5d60e": {
          "model_module": "@jupyter-widgets/controls",
          "model_name": "HTMLModel",
          "model_module_version": "1.5.0",
          "state": {
            "_dom_classes": [],
            "_model_module": "@jupyter-widgets/controls",
            "_model_module_version": "1.5.0",
            "_model_name": "HTMLModel",
            "_view_count": null,
            "_view_module": "@jupyter-widgets/controls",
            "_view_module_version": "1.5.0",
            "_view_name": "HTMLView",
            "description": "",
            "description_tooltip": null,
            "layout": "IPY_MODEL_eafe55a7060646219338496f685cd10b",
            "placeholder": "​",
            "style": "IPY_MODEL_431fdace1460485c9b13eaee5f59105e",
            "value": " 2000/2000 [00:01&lt;00:00, 1857.25 examples/s]"
          }
        },
        "4d39f3a9a06145a4ab53705334174cdb": {
          "model_module": "@jupyter-widgets/base",
          "model_name": "LayoutModel",
          "model_module_version": "1.2.0",
          "state": {
            "_model_module": "@jupyter-widgets/base",
            "_model_module_version": "1.2.0",
            "_model_name": "LayoutModel",
            "_view_count": null,
            "_view_module": "@jupyter-widgets/base",
            "_view_module_version": "1.2.0",
            "_view_name": "LayoutView",
            "align_content": null,
            "align_items": null,
            "align_self": null,
            "border": null,
            "bottom": null,
            "display": null,
            "flex": null,
            "flex_flow": null,
            "grid_area": null,
            "grid_auto_columns": null,
            "grid_auto_flow": null,
            "grid_auto_rows": null,
            "grid_column": null,
            "grid_gap": null,
            "grid_row": null,
            "grid_template_areas": null,
            "grid_template_columns": null,
            "grid_template_rows": null,
            "height": null,
            "justify_content": null,
            "justify_items": null,
            "left": null,
            "margin": null,
            "max_height": null,
            "max_width": null,
            "min_height": null,
            "min_width": null,
            "object_fit": null,
            "object_position": null,
            "order": null,
            "overflow": null,
            "overflow_x": null,
            "overflow_y": null,
            "padding": null,
            "right": null,
            "top": null,
            "visibility": null,
            "width": null
          }
        },
        "76ae0f5e74824964ba674c421eafb816": {
          "model_module": "@jupyter-widgets/base",
          "model_name": "LayoutModel",
          "model_module_version": "1.2.0",
          "state": {
            "_model_module": "@jupyter-widgets/base",
            "_model_module_version": "1.2.0",
            "_model_name": "LayoutModel",
            "_view_count": null,
            "_view_module": "@jupyter-widgets/base",
            "_view_module_version": "1.2.0",
            "_view_name": "LayoutView",
            "align_content": null,
            "align_items": null,
            "align_self": null,
            "border": null,
            "bottom": null,
            "display": null,
            "flex": null,
            "flex_flow": null,
            "grid_area": null,
            "grid_auto_columns": null,
            "grid_auto_flow": null,
            "grid_auto_rows": null,
            "grid_column": null,
            "grid_gap": null,
            "grid_row": null,
            "grid_template_areas": null,
            "grid_template_columns": null,
            "grid_template_rows": null,
            "height": null,
            "justify_content": null,
            "justify_items": null,
            "left": null,
            "margin": null,
            "max_height": null,
            "max_width": null,
            "min_height": null,
            "min_width": null,
            "object_fit": null,
            "object_position": null,
            "order": null,
            "overflow": null,
            "overflow_x": null,
            "overflow_y": null,
            "padding": null,
            "right": null,
            "top": null,
            "visibility": null,
            "width": null
          }
        },
        "6d183bd6ccf245f0a9403cb44bbf1648": {
          "model_module": "@jupyter-widgets/controls",
          "model_name": "DescriptionStyleModel",
          "model_module_version": "1.5.0",
          "state": {
            "_model_module": "@jupyter-widgets/controls",
            "_model_module_version": "1.5.0",
            "_model_name": "DescriptionStyleModel",
            "_view_count": null,
            "_view_module": "@jupyter-widgets/base",
            "_view_module_version": "1.2.0",
            "_view_name": "StyleView",
            "description_width": ""
          }
        },
        "67311fb26cd74ec79ee3a7424e27a40e": {
          "model_module": "@jupyter-widgets/base",
          "model_name": "LayoutModel",
          "model_module_version": "1.2.0",
          "state": {
            "_model_module": "@jupyter-widgets/base",
            "_model_module_version": "1.2.0",
            "_model_name": "LayoutModel",
            "_view_count": null,
            "_view_module": "@jupyter-widgets/base",
            "_view_module_version": "1.2.0",
            "_view_name": "LayoutView",
            "align_content": null,
            "align_items": null,
            "align_self": null,
            "border": null,
            "bottom": null,
            "display": null,
            "flex": null,
            "flex_flow": null,
            "grid_area": null,
            "grid_auto_columns": null,
            "grid_auto_flow": null,
            "grid_auto_rows": null,
            "grid_column": null,
            "grid_gap": null,
            "grid_row": null,
            "grid_template_areas": null,
            "grid_template_columns": null,
            "grid_template_rows": null,
            "height": null,
            "justify_content": null,
            "justify_items": null,
            "left": null,
            "margin": null,
            "max_height": null,
            "max_width": null,
            "min_height": null,
            "min_width": null,
            "object_fit": null,
            "object_position": null,
            "order": null,
            "overflow": null,
            "overflow_x": null,
            "overflow_y": null,
            "padding": null,
            "right": null,
            "top": null,
            "visibility": null,
            "width": null
          }
        },
        "2839cd520a1744b496e0b3f292ca4398": {
          "model_module": "@jupyter-widgets/controls",
          "model_name": "ProgressStyleModel",
          "model_module_version": "1.5.0",
          "state": {
            "_model_module": "@jupyter-widgets/controls",
            "_model_module_version": "1.5.0",
            "_model_name": "ProgressStyleModel",
            "_view_count": null,
            "_view_module": "@jupyter-widgets/base",
            "_view_module_version": "1.2.0",
            "_view_name": "StyleView",
            "bar_color": null,
            "description_width": ""
          }
        },
        "eafe55a7060646219338496f685cd10b": {
          "model_module": "@jupyter-widgets/base",
          "model_name": "LayoutModel",
          "model_module_version": "1.2.0",
          "state": {
            "_model_module": "@jupyter-widgets/base",
            "_model_module_version": "1.2.0",
            "_model_name": "LayoutModel",
            "_view_count": null,
            "_view_module": "@jupyter-widgets/base",
            "_view_module_version": "1.2.0",
            "_view_name": "LayoutView",
            "align_content": null,
            "align_items": null,
            "align_self": null,
            "border": null,
            "bottom": null,
            "display": null,
            "flex": null,
            "flex_flow": null,
            "grid_area": null,
            "grid_auto_columns": null,
            "grid_auto_flow": null,
            "grid_auto_rows": null,
            "grid_column": null,
            "grid_gap": null,
            "grid_row": null,
            "grid_template_areas": null,
            "grid_template_columns": null,
            "grid_template_rows": null,
            "height": null,
            "justify_content": null,
            "justify_items": null,
            "left": null,
            "margin": null,
            "max_height": null,
            "max_width": null,
            "min_height": null,
            "min_width": null,
            "object_fit": null,
            "object_position": null,
            "order": null,
            "overflow": null,
            "overflow_x": null,
            "overflow_y": null,
            "padding": null,
            "right": null,
            "top": null,
            "visibility": null,
            "width": null
          }
        },
        "431fdace1460485c9b13eaee5f59105e": {
          "model_module": "@jupyter-widgets/controls",
          "model_name": "DescriptionStyleModel",
          "model_module_version": "1.5.0",
          "state": {
            "_model_module": "@jupyter-widgets/controls",
            "_model_module_version": "1.5.0",
            "_model_name": "DescriptionStyleModel",
            "_view_count": null,
            "_view_module": "@jupyter-widgets/base",
            "_view_module_version": "1.2.0",
            "_view_name": "StyleView",
            "description_width": ""
          }
        }
      }
    }
  },
  "nbformat": 4,
  "nbformat_minor": 0
}